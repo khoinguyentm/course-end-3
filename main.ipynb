{
 "cells": [
  {
   "cell_type": "code",
   "execution_count": 3,
   "metadata": {},
   "outputs": [],
   "source": [
    "import pandas as pd\n",
    "import numpy as np\n",
    "import matplotlib.pyplot as plt\n",
    "import seaborn as sns\n",
    "\n",
    "import warnings\n",
    "warnings.filterwarnings('ignore')"
   ]
  },
  {
   "cell_type": "code",
   "execution_count": 4,
   "metadata": {},
   "outputs": [
    {
     "data": {
      "application/vnd.microsoft.datawrangler.viewer.v0+json": {
       "columns": [
        {
         "name": "index",
         "rawType": "int64",
         "type": "integer"
        },
        {
         "name": "satisfaction_level",
         "rawType": "float64",
         "type": "float"
        },
        {
         "name": "last_evaluation",
         "rawType": "float64",
         "type": "float"
        },
        {
         "name": "number_project",
         "rawType": "int64",
         "type": "integer"
        },
        {
         "name": "average_montly_hours",
         "rawType": "int64",
         "type": "integer"
        },
        {
         "name": "time_spend_company",
         "rawType": "int64",
         "type": "integer"
        },
        {
         "name": "Work_accident",
         "rawType": "int64",
         "type": "integer"
        },
        {
         "name": "left",
         "rawType": "int64",
         "type": "integer"
        },
        {
         "name": "promotion_last_5years",
         "rawType": "int64",
         "type": "integer"
        },
        {
         "name": "sales",
         "rawType": "object",
         "type": "string"
        },
        {
         "name": "salary",
         "rawType": "object",
         "type": "string"
        }
       ],
       "conversionMethod": "pd.DataFrame",
       "ref": "3dc02010-6d1d-498a-a0c3-4b47768efcc2",
       "rows": [
        [
         "5079",
         "0.86",
         "0.53",
         "4",
         "244",
         "3",
         "0",
         "0",
         "0",
         "technical",
         "medium"
        ],
        [
         "4781",
         "0.72",
         "0.7",
         "3",
         "149",
         "3",
         "0",
         "0",
         "0",
         "support",
         "medium"
        ],
        [
         "5370",
         "0.64",
         "0.61",
         "3",
         "221",
         "3",
         "0",
         "0",
         "0",
         "accounting",
         "low"
        ],
        [
         "1481",
         "0.16",
         "0.65",
         "4",
         "277",
         "5",
         "0",
         "1",
         "0",
         "accounting",
         "medium"
        ],
        [
         "11391",
         "0.37",
         "0.63",
         "4",
         "167",
         "3",
         "0",
         "0",
         "0",
         "IT",
         "low"
        ],
        [
         "8540",
         "0.51",
         "0.71",
         "5",
         "154",
         "2",
         "0",
         "0",
         "0",
         "product_mng",
         "medium"
        ],
        [
         "2717",
         "0.74",
         "0.69",
         "3",
         "230",
         "2",
         "0",
         "0",
         "0",
         "support",
         "medium"
        ],
        [
         "7010",
         "0.91",
         "0.85",
         "5",
         "214",
         "2",
         "0",
         "0",
         "0",
         "IT",
         "low"
        ],
        [
         "1196",
         "0.37",
         "0.55",
         "2",
         "159",
         "3",
         "0",
         "1",
         "0",
         "support",
         "medium"
        ],
        [
         "6148",
         "0.52",
         "0.92",
         "4",
         "112",
         "2",
         "0",
         "0",
         "0",
         "technical",
         "medium"
        ],
        [
         "7094",
         "0.56",
         "0.64",
         "3",
         "262",
         "2",
         "1",
         "0",
         "0",
         "RandD",
         "low"
        ],
        [
         "8606",
         "0.91",
         "0.5",
         "3",
         "276",
         "4",
         "0",
         "0",
         "0",
         "support",
         "low"
        ],
        [
         "5153",
         "0.82",
         "0.92",
         "5",
         "198",
         "3",
         "0",
         "0",
         "0",
         "technical",
         "low"
        ],
        [
         "10434",
         "0.77",
         "0.65",
         "2",
         "162",
         "4",
         "1",
         "0",
         "0",
         "support",
         "medium"
        ],
        [
         "14668",
         "0.77",
         "1.0",
         "4",
         "255",
         "5",
         "0",
         "1",
         "0",
         "RandD",
         "medium"
        ]
       ],
       "shape": {
        "columns": 10,
        "rows": 15
       }
      },
      "text/html": [
       "<div>\n",
       "<style scoped>\n",
       "    .dataframe tbody tr th:only-of-type {\n",
       "        vertical-align: middle;\n",
       "    }\n",
       "\n",
       "    .dataframe tbody tr th {\n",
       "        vertical-align: top;\n",
       "    }\n",
       "\n",
       "    .dataframe thead th {\n",
       "        text-align: right;\n",
       "    }\n",
       "</style>\n",
       "<table border=\"1\" class=\"dataframe\">\n",
       "  <thead>\n",
       "    <tr style=\"text-align: right;\">\n",
       "      <th></th>\n",
       "      <th>satisfaction_level</th>\n",
       "      <th>last_evaluation</th>\n",
       "      <th>number_project</th>\n",
       "      <th>average_montly_hours</th>\n",
       "      <th>time_spend_company</th>\n",
       "      <th>Work_accident</th>\n",
       "      <th>left</th>\n",
       "      <th>promotion_last_5years</th>\n",
       "      <th>sales</th>\n",
       "      <th>salary</th>\n",
       "    </tr>\n",
       "  </thead>\n",
       "  <tbody>\n",
       "    <tr>\n",
       "      <th>5079</th>\n",
       "      <td>0.86</td>\n",
       "      <td>0.53</td>\n",
       "      <td>4</td>\n",
       "      <td>244</td>\n",
       "      <td>3</td>\n",
       "      <td>0</td>\n",
       "      <td>0</td>\n",
       "      <td>0</td>\n",
       "      <td>technical</td>\n",
       "      <td>medium</td>\n",
       "    </tr>\n",
       "    <tr>\n",
       "      <th>4781</th>\n",
       "      <td>0.72</td>\n",
       "      <td>0.70</td>\n",
       "      <td>3</td>\n",
       "      <td>149</td>\n",
       "      <td>3</td>\n",
       "      <td>0</td>\n",
       "      <td>0</td>\n",
       "      <td>0</td>\n",
       "      <td>support</td>\n",
       "      <td>medium</td>\n",
       "    </tr>\n",
       "    <tr>\n",
       "      <th>5370</th>\n",
       "      <td>0.64</td>\n",
       "      <td>0.61</td>\n",
       "      <td>3</td>\n",
       "      <td>221</td>\n",
       "      <td>3</td>\n",
       "      <td>0</td>\n",
       "      <td>0</td>\n",
       "      <td>0</td>\n",
       "      <td>accounting</td>\n",
       "      <td>low</td>\n",
       "    </tr>\n",
       "    <tr>\n",
       "      <th>1481</th>\n",
       "      <td>0.16</td>\n",
       "      <td>0.65</td>\n",
       "      <td>4</td>\n",
       "      <td>277</td>\n",
       "      <td>5</td>\n",
       "      <td>0</td>\n",
       "      <td>1</td>\n",
       "      <td>0</td>\n",
       "      <td>accounting</td>\n",
       "      <td>medium</td>\n",
       "    </tr>\n",
       "    <tr>\n",
       "      <th>11391</th>\n",
       "      <td>0.37</td>\n",
       "      <td>0.63</td>\n",
       "      <td>4</td>\n",
       "      <td>167</td>\n",
       "      <td>3</td>\n",
       "      <td>0</td>\n",
       "      <td>0</td>\n",
       "      <td>0</td>\n",
       "      <td>IT</td>\n",
       "      <td>low</td>\n",
       "    </tr>\n",
       "    <tr>\n",
       "      <th>8540</th>\n",
       "      <td>0.51</td>\n",
       "      <td>0.71</td>\n",
       "      <td>5</td>\n",
       "      <td>154</td>\n",
       "      <td>2</td>\n",
       "      <td>0</td>\n",
       "      <td>0</td>\n",
       "      <td>0</td>\n",
       "      <td>product_mng</td>\n",
       "      <td>medium</td>\n",
       "    </tr>\n",
       "    <tr>\n",
       "      <th>2717</th>\n",
       "      <td>0.74</td>\n",
       "      <td>0.69</td>\n",
       "      <td>3</td>\n",
       "      <td>230</td>\n",
       "      <td>2</td>\n",
       "      <td>0</td>\n",
       "      <td>0</td>\n",
       "      <td>0</td>\n",
       "      <td>support</td>\n",
       "      <td>medium</td>\n",
       "    </tr>\n",
       "    <tr>\n",
       "      <th>7010</th>\n",
       "      <td>0.91</td>\n",
       "      <td>0.85</td>\n",
       "      <td>5</td>\n",
       "      <td>214</td>\n",
       "      <td>2</td>\n",
       "      <td>0</td>\n",
       "      <td>0</td>\n",
       "      <td>0</td>\n",
       "      <td>IT</td>\n",
       "      <td>low</td>\n",
       "    </tr>\n",
       "    <tr>\n",
       "      <th>1196</th>\n",
       "      <td>0.37</td>\n",
       "      <td>0.55</td>\n",
       "      <td>2</td>\n",
       "      <td>159</td>\n",
       "      <td>3</td>\n",
       "      <td>0</td>\n",
       "      <td>1</td>\n",
       "      <td>0</td>\n",
       "      <td>support</td>\n",
       "      <td>medium</td>\n",
       "    </tr>\n",
       "    <tr>\n",
       "      <th>6148</th>\n",
       "      <td>0.52</td>\n",
       "      <td>0.92</td>\n",
       "      <td>4</td>\n",
       "      <td>112</td>\n",
       "      <td>2</td>\n",
       "      <td>0</td>\n",
       "      <td>0</td>\n",
       "      <td>0</td>\n",
       "      <td>technical</td>\n",
       "      <td>medium</td>\n",
       "    </tr>\n",
       "    <tr>\n",
       "      <th>7094</th>\n",
       "      <td>0.56</td>\n",
       "      <td>0.64</td>\n",
       "      <td>3</td>\n",
       "      <td>262</td>\n",
       "      <td>2</td>\n",
       "      <td>1</td>\n",
       "      <td>0</td>\n",
       "      <td>0</td>\n",
       "      <td>RandD</td>\n",
       "      <td>low</td>\n",
       "    </tr>\n",
       "    <tr>\n",
       "      <th>8606</th>\n",
       "      <td>0.91</td>\n",
       "      <td>0.50</td>\n",
       "      <td>3</td>\n",
       "      <td>276</td>\n",
       "      <td>4</td>\n",
       "      <td>0</td>\n",
       "      <td>0</td>\n",
       "      <td>0</td>\n",
       "      <td>support</td>\n",
       "      <td>low</td>\n",
       "    </tr>\n",
       "    <tr>\n",
       "      <th>5153</th>\n",
       "      <td>0.82</td>\n",
       "      <td>0.92</td>\n",
       "      <td>5</td>\n",
       "      <td>198</td>\n",
       "      <td>3</td>\n",
       "      <td>0</td>\n",
       "      <td>0</td>\n",
       "      <td>0</td>\n",
       "      <td>technical</td>\n",
       "      <td>low</td>\n",
       "    </tr>\n",
       "    <tr>\n",
       "      <th>10434</th>\n",
       "      <td>0.77</td>\n",
       "      <td>0.65</td>\n",
       "      <td>2</td>\n",
       "      <td>162</td>\n",
       "      <td>4</td>\n",
       "      <td>1</td>\n",
       "      <td>0</td>\n",
       "      <td>0</td>\n",
       "      <td>support</td>\n",
       "      <td>medium</td>\n",
       "    </tr>\n",
       "    <tr>\n",
       "      <th>14668</th>\n",
       "      <td>0.77</td>\n",
       "      <td>1.00</td>\n",
       "      <td>4</td>\n",
       "      <td>255</td>\n",
       "      <td>5</td>\n",
       "      <td>0</td>\n",
       "      <td>1</td>\n",
       "      <td>0</td>\n",
       "      <td>RandD</td>\n",
       "      <td>medium</td>\n",
       "    </tr>\n",
       "  </tbody>\n",
       "</table>\n",
       "</div>"
      ],
      "text/plain": [
       "       satisfaction_level  last_evaluation  number_project  \\\n",
       "5079                 0.86             0.53               4   \n",
       "4781                 0.72             0.70               3   \n",
       "5370                 0.64             0.61               3   \n",
       "1481                 0.16             0.65               4   \n",
       "11391                0.37             0.63               4   \n",
       "8540                 0.51             0.71               5   \n",
       "2717                 0.74             0.69               3   \n",
       "7010                 0.91             0.85               5   \n",
       "1196                 0.37             0.55               2   \n",
       "6148                 0.52             0.92               4   \n",
       "7094                 0.56             0.64               3   \n",
       "8606                 0.91             0.50               3   \n",
       "5153                 0.82             0.92               5   \n",
       "10434                0.77             0.65               2   \n",
       "14668                0.77             1.00               4   \n",
       "\n",
       "       average_montly_hours  time_spend_company  Work_accident  left  \\\n",
       "5079                    244                   3              0     0   \n",
       "4781                    149                   3              0     0   \n",
       "5370                    221                   3              0     0   \n",
       "1481                    277                   5              0     1   \n",
       "11391                   167                   3              0     0   \n",
       "8540                    154                   2              0     0   \n",
       "2717                    230                   2              0     0   \n",
       "7010                    214                   2              0     0   \n",
       "1196                    159                   3              0     1   \n",
       "6148                    112                   2              0     0   \n",
       "7094                    262                   2              1     0   \n",
       "8606                    276                   4              0     0   \n",
       "5153                    198                   3              0     0   \n",
       "10434                   162                   4              1     0   \n",
       "14668                   255                   5              0     1   \n",
       "\n",
       "       promotion_last_5years        sales  salary  \n",
       "5079                       0    technical  medium  \n",
       "4781                       0      support  medium  \n",
       "5370                       0   accounting     low  \n",
       "1481                       0   accounting  medium  \n",
       "11391                      0           IT     low  \n",
       "8540                       0  product_mng  medium  \n",
       "2717                       0      support  medium  \n",
       "7010                       0           IT     low  \n",
       "1196                       0      support  medium  \n",
       "6148                       0    technical  medium  \n",
       "7094                       0        RandD     low  \n",
       "8606                       0      support     low  \n",
       "5153                       0    technical     low  \n",
       "10434                      0      support  medium  \n",
       "14668                      0        RandD  medium  "
      ]
     },
     "execution_count": 4,
     "metadata": {},
     "output_type": "execute_result"
    }
   ],
   "source": [
    "df = pd.read_csv('HR_comma_sep.csv')\n",
    "df.sample(15)"
   ]
  },
  {
   "cell_type": "markdown",
   "metadata": {},
   "source": [
    "## Data quality check"
   ]
  },
  {
   "cell_type": "code",
   "execution_count": 5,
   "metadata": {},
   "outputs": [
    {
     "data": {
      "text/plain": [
       "(14999, 10)"
      ]
     },
     "execution_count": 5,
     "metadata": {},
     "output_type": "execute_result"
    }
   ],
   "source": [
    "df.shape"
   ]
  },
  {
   "cell_type": "code",
   "execution_count": 6,
   "metadata": {},
   "outputs": [
    {
     "name": "stdout",
     "output_type": "stream",
     "text": [
      "<class 'pandas.core.frame.DataFrame'>\n",
      "RangeIndex: 14999 entries, 0 to 14998\n",
      "Data columns (total 10 columns):\n",
      " #   Column                 Non-Null Count  Dtype  \n",
      "---  ------                 --------------  -----  \n",
      " 0   satisfaction_level     14999 non-null  float64\n",
      " 1   last_evaluation        14999 non-null  float64\n",
      " 2   number_project         14999 non-null  int64  \n",
      " 3   average_montly_hours   14999 non-null  int64  \n",
      " 4   time_spend_company     14999 non-null  int64  \n",
      " 5   Work_accident          14999 non-null  int64  \n",
      " 6   left                   14999 non-null  int64  \n",
      " 7   promotion_last_5years  14999 non-null  int64  \n",
      " 8   sales                  14999 non-null  object \n",
      " 9   salary                 14999 non-null  object \n",
      "dtypes: float64(2), int64(6), object(2)\n",
      "memory usage: 1.1+ MB\n"
     ]
    }
   ],
   "source": [
    "df.info()"
   ]
  },
  {
   "cell_type": "code",
   "execution_count": 7,
   "metadata": {},
   "outputs": [
    {
     "data": {
      "application/vnd.microsoft.datawrangler.viewer.v0+json": {
       "columns": [
        {
         "name": "index",
         "rawType": "object",
         "type": "string"
        },
        {
         "name": "count",
         "rawType": "float64",
         "type": "float"
        },
        {
         "name": "mean",
         "rawType": "float64",
         "type": "float"
        },
        {
         "name": "std",
         "rawType": "float64",
         "type": "float"
        },
        {
         "name": "min",
         "rawType": "float64",
         "type": "float"
        },
        {
         "name": "25%",
         "rawType": "float64",
         "type": "float"
        },
        {
         "name": "50%",
         "rawType": "float64",
         "type": "float"
        },
        {
         "name": "75%",
         "rawType": "float64",
         "type": "float"
        },
        {
         "name": "max",
         "rawType": "float64",
         "type": "float"
        }
       ],
       "conversionMethod": "pd.DataFrame",
       "ref": "b5ff8ec7-d467-4861-bc3e-934e37be25c3",
       "rows": [
        [
         "satisfaction_level",
         "14999.0",
         "0.6128335222348156",
         "0.2486306510611418",
         "0.09",
         "0.44",
         "0.64",
         "0.82",
         "1.0"
        ],
        [
         "last_evaluation",
         "14999.0",
         "0.7161017401160078",
         "0.17116911062327592",
         "0.36",
         "0.56",
         "0.72",
         "0.87",
         "1.0"
        ],
        [
         "number_project",
         "14999.0",
         "3.80305353690246",
         "1.2325923553183857",
         "2.0",
         "3.0",
         "4.0",
         "5.0",
         "7.0"
        ],
        [
         "average_montly_hours",
         "14999.0",
         "201.0503366891126",
         "49.943099371284305",
         "96.0",
         "156.0",
         "200.0",
         "245.0",
         "310.0"
        ],
        [
         "time_spend_company",
         "14999.0",
         "3.498233215547703",
         "1.4601362305354546",
         "2.0",
         "3.0",
         "3.0",
         "4.0",
         "10.0"
        ],
        [
         "Work_accident",
         "14999.0",
         "0.1446096406427095",
         "0.3517185523801279",
         "0.0",
         "0.0",
         "0.0",
         "0.0",
         "1.0"
        ],
        [
         "left",
         "14999.0",
         "0.2380825388359224",
         "0.425924099380363",
         "0.0",
         "0.0",
         "0.0",
         "0.0",
         "1.0"
        ],
        [
         "promotion_last_5years",
         "14999.0",
         "0.021268084538969265",
         "0.1442814645785774",
         "0.0",
         "0.0",
         "0.0",
         "0.0",
         "1.0"
        ]
       ],
       "shape": {
        "columns": 8,
        "rows": 8
       }
      },
      "text/html": [
       "<div>\n",
       "<style scoped>\n",
       "    .dataframe tbody tr th:only-of-type {\n",
       "        vertical-align: middle;\n",
       "    }\n",
       "\n",
       "    .dataframe tbody tr th {\n",
       "        vertical-align: top;\n",
       "    }\n",
       "\n",
       "    .dataframe thead th {\n",
       "        text-align: right;\n",
       "    }\n",
       "</style>\n",
       "<table border=\"1\" class=\"dataframe\">\n",
       "  <thead>\n",
       "    <tr style=\"text-align: right;\">\n",
       "      <th></th>\n",
       "      <th>count</th>\n",
       "      <th>mean</th>\n",
       "      <th>std</th>\n",
       "      <th>min</th>\n",
       "      <th>25%</th>\n",
       "      <th>50%</th>\n",
       "      <th>75%</th>\n",
       "      <th>max</th>\n",
       "    </tr>\n",
       "  </thead>\n",
       "  <tbody>\n",
       "    <tr>\n",
       "      <th>satisfaction_level</th>\n",
       "      <td>14999.0</td>\n",
       "      <td>0.612834</td>\n",
       "      <td>0.248631</td>\n",
       "      <td>0.09</td>\n",
       "      <td>0.44</td>\n",
       "      <td>0.64</td>\n",
       "      <td>0.82</td>\n",
       "      <td>1.0</td>\n",
       "    </tr>\n",
       "    <tr>\n",
       "      <th>last_evaluation</th>\n",
       "      <td>14999.0</td>\n",
       "      <td>0.716102</td>\n",
       "      <td>0.171169</td>\n",
       "      <td>0.36</td>\n",
       "      <td>0.56</td>\n",
       "      <td>0.72</td>\n",
       "      <td>0.87</td>\n",
       "      <td>1.0</td>\n",
       "    </tr>\n",
       "    <tr>\n",
       "      <th>number_project</th>\n",
       "      <td>14999.0</td>\n",
       "      <td>3.803054</td>\n",
       "      <td>1.232592</td>\n",
       "      <td>2.00</td>\n",
       "      <td>3.00</td>\n",
       "      <td>4.00</td>\n",
       "      <td>5.00</td>\n",
       "      <td>7.0</td>\n",
       "    </tr>\n",
       "    <tr>\n",
       "      <th>average_montly_hours</th>\n",
       "      <td>14999.0</td>\n",
       "      <td>201.050337</td>\n",
       "      <td>49.943099</td>\n",
       "      <td>96.00</td>\n",
       "      <td>156.00</td>\n",
       "      <td>200.00</td>\n",
       "      <td>245.00</td>\n",
       "      <td>310.0</td>\n",
       "    </tr>\n",
       "    <tr>\n",
       "      <th>time_spend_company</th>\n",
       "      <td>14999.0</td>\n",
       "      <td>3.498233</td>\n",
       "      <td>1.460136</td>\n",
       "      <td>2.00</td>\n",
       "      <td>3.00</td>\n",
       "      <td>3.00</td>\n",
       "      <td>4.00</td>\n",
       "      <td>10.0</td>\n",
       "    </tr>\n",
       "    <tr>\n",
       "      <th>Work_accident</th>\n",
       "      <td>14999.0</td>\n",
       "      <td>0.144610</td>\n",
       "      <td>0.351719</td>\n",
       "      <td>0.00</td>\n",
       "      <td>0.00</td>\n",
       "      <td>0.00</td>\n",
       "      <td>0.00</td>\n",
       "      <td>1.0</td>\n",
       "    </tr>\n",
       "    <tr>\n",
       "      <th>left</th>\n",
       "      <td>14999.0</td>\n",
       "      <td>0.238083</td>\n",
       "      <td>0.425924</td>\n",
       "      <td>0.00</td>\n",
       "      <td>0.00</td>\n",
       "      <td>0.00</td>\n",
       "      <td>0.00</td>\n",
       "      <td>1.0</td>\n",
       "    </tr>\n",
       "    <tr>\n",
       "      <th>promotion_last_5years</th>\n",
       "      <td>14999.0</td>\n",
       "      <td>0.021268</td>\n",
       "      <td>0.144281</td>\n",
       "      <td>0.00</td>\n",
       "      <td>0.00</td>\n",
       "      <td>0.00</td>\n",
       "      <td>0.00</td>\n",
       "      <td>1.0</td>\n",
       "    </tr>\n",
       "  </tbody>\n",
       "</table>\n",
       "</div>"
      ],
      "text/plain": [
       "                         count        mean        std    min     25%     50%  \\\n",
       "satisfaction_level     14999.0    0.612834   0.248631   0.09    0.44    0.64   \n",
       "last_evaluation        14999.0    0.716102   0.171169   0.36    0.56    0.72   \n",
       "number_project         14999.0    3.803054   1.232592   2.00    3.00    4.00   \n",
       "average_montly_hours   14999.0  201.050337  49.943099  96.00  156.00  200.00   \n",
       "time_spend_company     14999.0    3.498233   1.460136   2.00    3.00    3.00   \n",
       "Work_accident          14999.0    0.144610   0.351719   0.00    0.00    0.00   \n",
       "left                   14999.0    0.238083   0.425924   0.00    0.00    0.00   \n",
       "promotion_last_5years  14999.0    0.021268   0.144281   0.00    0.00    0.00   \n",
       "\n",
       "                          75%    max  \n",
       "satisfaction_level       0.82    1.0  \n",
       "last_evaluation          0.87    1.0  \n",
       "number_project           5.00    7.0  \n",
       "average_montly_hours   245.00  310.0  \n",
       "time_spend_company       4.00   10.0  \n",
       "Work_accident            0.00    1.0  \n",
       "left                     0.00    1.0  \n",
       "promotion_last_5years    0.00    1.0  "
      ]
     },
     "execution_count": 7,
     "metadata": {},
     "output_type": "execute_result"
    }
   ],
   "source": [
    "df.describe().T"
   ]
  },
  {
   "cell_type": "code",
   "execution_count": 8,
   "metadata": {},
   "outputs": [
    {
     "data": {
      "text/plain": [
       "satisfaction_level       0\n",
       "last_evaluation          0\n",
       "number_project           0\n",
       "average_montly_hours     0\n",
       "time_spend_company       0\n",
       "Work_accident            0\n",
       "left                     0\n",
       "promotion_last_5years    0\n",
       "sales                    0\n",
       "salary                   0\n",
       "dtype: int64"
      ]
     },
     "execution_count": 8,
     "metadata": {},
     "output_type": "execute_result"
    }
   ],
   "source": [
    "# Check for missing values\n",
    "df.isnull().sum()"
   ]
  },
  {
   "cell_type": "markdown",
   "metadata": {},
   "source": [
    "## Understand what factors contributed most to employee turnover"
   ]
  },
  {
   "cell_type": "code",
   "execution_count": 9,
   "metadata": {},
   "outputs": [
    {
     "data": {
      "image/png": "[encoded data removed]",
      "text/plain": [
       "<Figure size 1500x1000 with 2 Axes>"
      ]
     },
     "metadata": {},
     "output_type": "display_data"
    }
   ],
   "source": [
    "# Draw a heatmap of the correlation matrix between all numerical features\n",
    "numerical_col = df.select_dtypes(include='number')\n",
    "corr = numerical_col.corr()\n",
    "\n",
    "plt.figure(figsize=(15, 10))\n",
    "sns.heatmap(corr, annot=True, cmap='coolwarm')\n",
    "plt.show()"
   ]
  },
  {
   "cell_type": "markdown",
   "metadata": {},
   "source": [
    "### Observations:\n",
    "- The correlation matrix shows that aveagrage_monthly_hours is highly correlated with number_projects and last_evaluation. This shows that employess who work on more projects tend to have higher average monthly hours.\n",
    "- number_project is also highly correlated with last_evaluation. It shows that employees with higher performance evaluations tend to be assigned more projects."
   ]
  },
  {
   "cell_type": "code",
   "execution_count": 10,
   "metadata": {},
   "outputs": [
    {
     "data": {
      "image/png": "[encoded data removed]",
      "text/plain": [
       "<Figure size 500x500 with 1 Axes>"
      ]
     },
     "metadata": {},
     "output_type": "display_data"
    },
    {
     "data": {
      "image/png": "[encoded data removed]",
      "text/plain": [
       "<Figure size 500x500 with 1 Axes>"
      ]
     },
     "metadata": {},
     "output_type": "display_data"
    },
    {
     "data": {
      "image/png": "[encoded data removed]",
      "text/plain": [
       "<Figure size 500x500 with 1 Axes>"
      ]
     },
     "metadata": {},
     "output_type": "display_data"
    }
   ],
   "source": [
    "# Draw a distribution plot of employee satisfaction, employe evaluation, and average monthly hours\n",
    "sns.displot(df['satisfaction_level'])\n",
    "sns.displot(df['last_evaluation'])\n",
    "sns.displot(df['average_montly_hours'])\n",
    "plt.show()\n"
   ]
  },
  {
   "cell_type": "markdown",
   "metadata": {},
   "source": [
    "### Observations:\n",
    "#### Employee satisfaction:\n",
    "- A significant number of employees have a satisfaction level close to 0.1, which could indicate dissatisfaction.\n",
    "- There is also a high concentration of employees with satisfaction levels around 0.7-0.9.\n",
    "\n",
    "#### Employee evaluation:\n",
    "- The peaks at 0.5, 0.6, and 0.9 suggest that employees are frequently evaluated around these values.\n",
    "\n",
    "#### Average monthly hours:\n",
    "- Peaks around 150 and 250 hours.\n",
    "- A smaller peak near 300 hours could indicate a subset of employees working extreme overtime."
   ]
  },
  {
   "cell_type": "code",
   "execution_count": 11,
   "metadata": {},
   "outputs": [
    {
     "data": {
      "image/png": "[encoded data removed]",
      "text/plain": [
       "<Figure size 640x480 with 1 Axes>"
      ]
     },
     "metadata": {},
     "output_type": "display_data"
    }
   ],
   "source": [
    "# Draw the bar plot of the employee project count of both employees who left and stayed in the organization\n",
    "sns.countplot(x='number_project', hue='left', data=df)\n",
    "plt.show()"
   ]
  },
  {
   "cell_type": "markdown",
   "metadata": {},
   "source": [
    "### Observations:\n",
    "- A significant number of employees who left the organization were assigned to 2, 6, and 7 projects.\n",
    "- Employees who stayed in the organization were assigned to 3, 4, and 5 projects."
   ]
  },
  {
   "cell_type": "markdown",
   "metadata": {},
   "source": [
    "## Perform clustering"
   ]
  },
  {
   "cell_type": "code",
   "execution_count": 12,
   "metadata": {},
   "outputs": [],
   "source": [
    "from sklearn.cluster import KMeans\n",
    "from sklearn.preprocessing import StandardScaler\n",
    "\n",
    "# Choose columns satisfaction_level, last_evaluation, and left.\n",
    "left_employees = df[df['left']==1][['satisfaction_level', 'last_evaluation']]\n",
    "\n",
    "# Scale the data\n",
    "scaler = StandardScaler()\n",
    "scaled_data = scaler.fit_transform(left_employees)\n",
    "\n",
    "# Do K-means clustering of employees who left the company into 3 clusters\n",
    "kmeans = KMeans(n_clusters=3, random_state=42)\n",
    "left_employees['cluster'] = kmeans.fit_predict(scaled_data)"
   ]
  },
  {
   "cell_type": "code",
   "execution_count": 13,
   "metadata": {},
   "outputs": [
    {
     "data": {
      "application/vnd.microsoft.datawrangler.viewer.v0+json": {
       "columns": [
        {
         "name": "index",
         "rawType": "int64",
         "type": "integer"
        },
        {
         "name": "satisfaction_level",
         "rawType": "float64",
         "type": "float"
        },
        {
         "name": "last_evaluation",
         "rawType": "float64",
         "type": "float"
        },
        {
         "name": "cluster",
         "rawType": "int32",
         "type": "integer"
        }
       ],
       "conversionMethod": "pd.DataFrame",
       "ref": "00b359a9-8b72-4922-8fad-b36fc9d05721",
       "rows": [
        [
         "0",
         "0.38",
         "0.53",
         "0"
        ],
        [
         "1",
         "0.8",
         "0.86",
         "1"
        ],
        [
         "2",
         "0.11",
         "0.88",
         "2"
        ],
        [
         "3",
         "0.72",
         "0.87",
         "1"
        ],
        [
         "4",
         "0.37",
         "0.52",
         "0"
        ],
        [
         "5",
         "0.41",
         "0.5",
         "0"
        ],
        [
         "6",
         "0.1",
         "0.77",
         "2"
        ],
        [
         "7",
         "0.92",
         "0.85",
         "1"
        ],
        [
         "8",
         "0.89",
         "1.0",
         "1"
        ],
        [
         "9",
         "0.42",
         "0.53",
         "0"
        ],
        [
         "10",
         "0.45",
         "0.54",
         "0"
        ],
        [
         "11",
         "0.11",
         "0.81",
         "2"
        ],
        [
         "12",
         "0.84",
         "0.92",
         "1"
        ],
        [
         "13",
         "0.41",
         "0.55",
         "0"
        ],
        [
         "14",
         "0.36",
         "0.56",
         "0"
        ],
        [
         "15",
         "0.38",
         "0.54",
         "0"
        ],
        [
         "16",
         "0.45",
         "0.47",
         "0"
        ],
        [
         "17",
         "0.78",
         "0.99",
         "1"
        ],
        [
         "18",
         "0.45",
         "0.51",
         "0"
        ],
        [
         "19",
         "0.76",
         "0.89",
         "1"
        ],
        [
         "20",
         "0.11",
         "0.83",
         "2"
        ],
        [
         "21",
         "0.38",
         "0.55",
         "0"
        ],
        [
         "22",
         "0.09",
         "0.95",
         "2"
        ],
        [
         "23",
         "0.46",
         "0.57",
         "0"
        ],
        [
         "24",
         "0.4",
         "0.53",
         "0"
        ],
        [
         "25",
         "0.89",
         "0.92",
         "1"
        ],
        [
         "26",
         "0.82",
         "0.87",
         "1"
        ],
        [
         "27",
         "0.4",
         "0.49",
         "0"
        ],
        [
         "28",
         "0.41",
         "0.46",
         "0"
        ],
        [
         "29",
         "0.38",
         "0.5",
         "0"
        ],
        [
         "30",
         "0.09",
         "0.62",
         "2"
        ],
        [
         "31",
         "0.45",
         "0.57",
         "0"
        ],
        [
         "32",
         "0.4",
         "0.51",
         "0"
        ],
        [
         "33",
         "0.45",
         "0.55",
         "0"
        ],
        [
         "34",
         "0.84",
         "0.87",
         "1"
        ],
        [
         "35",
         "0.1",
         "0.94",
         "2"
        ],
        [
         "36",
         "0.38",
         "0.46",
         "0"
        ],
        [
         "37",
         "0.45",
         "0.5",
         "0"
        ],
        [
         "38",
         "0.11",
         "0.89",
         "2"
        ],
        [
         "39",
         "0.41",
         "0.54",
         "0"
        ],
        [
         "40",
         "0.87",
         "0.88",
         "1"
        ],
        [
         "41",
         "0.45",
         "0.48",
         "0"
        ],
        [
         "42",
         "0.4",
         "0.46",
         "0"
        ],
        [
         "43",
         "0.1",
         "0.8",
         "2"
        ],
        [
         "44",
         "0.09",
         "0.89",
         "2"
        ],
        [
         "45",
         "0.84",
         "0.74",
         "1"
        ],
        [
         "46",
         "0.4",
         "0.55",
         "0"
        ],
        [
         "47",
         "0.57",
         "0.7",
         "0"
        ],
        [
         "48",
         "0.4",
         "0.54",
         "0"
        ],
        [
         "49",
         "0.43",
         "0.47",
         "0"
        ]
       ],
       "shape": {
        "columns": 3,
        "rows": 3571
       }
      },
      "text/html": [
       "<div>\n",
       "<style scoped>\n",
       "    .dataframe tbody tr th:only-of-type {\n",
       "        vertical-align: middle;\n",
       "    }\n",
       "\n",
       "    .dataframe tbody tr th {\n",
       "        vertical-align: top;\n",
       "    }\n",
       "\n",
       "    .dataframe thead th {\n",
       "        text-align: right;\n",
       "    }\n",
       "</style>\n",
       "<table border=\"1\" class=\"dataframe\">\n",
       "  <thead>\n",
       "    <tr style=\"text-align: right;\">\n",
       "      <th></th>\n",
       "      <th>satisfaction_level</th>\n",
       "      <th>last_evaluation</th>\n",
       "      <th>cluster</th>\n",
       "    </tr>\n",
       "  </thead>\n",
       "  <tbody>\n",
       "    <tr>\n",
       "      <th>0</th>\n",
       "      <td>0.38</td>\n",
       "      <td>0.53</td>\n",
       "      <td>0</td>\n",
       "    </tr>\n",
       "    <tr>\n",
       "      <th>1</th>\n",
       "      <td>0.80</td>\n",
       "      <td>0.86</td>\n",
       "      <td>1</td>\n",
       "    </tr>\n",
       "    <tr>\n",
       "      <th>2</th>\n",
       "      <td>0.11</td>\n",
       "      <td>0.88</td>\n",
       "      <td>2</td>\n",
       "    </tr>\n",
       "    <tr>\n",
       "      <th>3</th>\n",
       "      <td>0.72</td>\n",
       "      <td>0.87</td>\n",
       "      <td>1</td>\n",
       "    </tr>\n",
       "    <tr>\n",
       "      <th>4</th>\n",
       "      <td>0.37</td>\n",
       "      <td>0.52</td>\n",
       "      <td>0</td>\n",
       "    </tr>\n",
       "    <tr>\n",
       "      <th>...</th>\n",
       "      <td>...</td>\n",
       "      <td>...</td>\n",
       "      <td>...</td>\n",
       "    </tr>\n",
       "    <tr>\n",
       "      <th>14994</th>\n",
       "      <td>0.40</td>\n",
       "      <td>0.57</td>\n",
       "      <td>0</td>\n",
       "    </tr>\n",
       "    <tr>\n",
       "      <th>14995</th>\n",
       "      <td>0.37</td>\n",
       "      <td>0.48</td>\n",
       "      <td>0</td>\n",
       "    </tr>\n",
       "    <tr>\n",
       "      <th>14996</th>\n",
       "      <td>0.37</td>\n",
       "      <td>0.53</td>\n",
       "      <td>0</td>\n",
       "    </tr>\n",
       "    <tr>\n",
       "      <th>14997</th>\n",
       "      <td>0.11</td>\n",
       "      <td>0.96</td>\n",
       "      <td>2</td>\n",
       "    </tr>\n",
       "    <tr>\n",
       "      <th>14998</th>\n",
       "      <td>0.37</td>\n",
       "      <td>0.52</td>\n",
       "      <td>0</td>\n",
       "    </tr>\n",
       "  </tbody>\n",
       "</table>\n",
       "<p>3571 rows × 3 columns</p>\n",
       "</div>"
      ],
      "text/plain": [
       "       satisfaction_level  last_evaluation  cluster\n",
       "0                    0.38             0.53        0\n",
       "1                    0.80             0.86        1\n",
       "2                    0.11             0.88        2\n",
       "3                    0.72             0.87        1\n",
       "4                    0.37             0.52        0\n",
       "...                   ...              ...      ...\n",
       "14994                0.40             0.57        0\n",
       "14995                0.37             0.48        0\n",
       "14996                0.37             0.53        0\n",
       "14997                0.11             0.96        2\n",
       "14998                0.37             0.52        0\n",
       "\n",
       "[3571 rows x 3 columns]"
      ]
     },
     "execution_count": 13,
     "metadata": {},
     "output_type": "execute_result"
    }
   ],
   "source": [
    "left_employees"
   ]
  },
  {
   "cell_type": "code",
   "execution_count": 14,
   "metadata": {},
   "outputs": [
    {
     "data": {
      "image/png": "[encoded data removed]",
      "text/plain": [
       "<Figure size 1000x500 with 1 Axes>"
      ]
     },
     "metadata": {},
     "output_type": "display_data"
    }
   ],
   "source": [
    "plt.figure(figsize=(10, 5))\n",
    "for cluster in range(3):\n",
    "    cluster_data = left_employees[left_employees['cluster']==cluster]\n",
    "    plt.scatter(cluster_data['satisfaction_level'], cluster_data['last_evaluation'], label=f'Cluster {cluster}')\n",
    "    \n",
    "plt.xlabel('Satisfaction Level')\n",
    "plt.ylabel('Last Evaluation')\n",
    "plt.title('Clustering of Employees Who Left the Company')\n",
    "plt.legend()\n",
    "plt.grid(True)\n",
    "plt.show()"
   ]
  },
  {
   "cell_type": "markdown",
   "metadata": {},
   "source": [
    "### Observations:\n",
    "- Cluster 0: Employees with moderate satisfaction levels and low evaluations.\n",
    "- Cluster 1: Employees with high satisfaction levels and high evaluations.\n",
    "- Cluster 2: Employees with low satisfaction levels and high evaluations."
   ]
  },
  {
   "cell_type": "markdown",
   "metadata": {},
   "source": [
    "## Handle the left Class Imbalance using the SMOTE technique"
   ]
  },
  {
   "cell_type": "code",
   "execution_count": 17,
   "metadata": {},
   "outputs": [
    {
     "data": {
      "application/vnd.microsoft.datawrangler.viewer.v0+json": {
       "columns": [
        {
         "name": "index",
         "rawType": "int64",
         "type": "integer"
        },
        {
         "name": "sales_RandD",
         "rawType": "int64",
         "type": "integer"
        },
        {
         "name": "sales_accounting",
         "rawType": "int64",
         "type": "integer"
        },
        {
         "name": "sales_hr",
         "rawType": "int64",
         "type": "integer"
        },
        {
         "name": "sales_management",
         "rawType": "int64",
         "type": "integer"
        },
        {
         "name": "sales_marketing",
         "rawType": "int64",
         "type": "integer"
        },
        {
         "name": "sales_product_mng",
         "rawType": "int64",
         "type": "integer"
        },
        {
         "name": "sales_sales",
         "rawType": "int64",
         "type": "integer"
        },
        {
         "name": "sales_support",
         "rawType": "int64",
         "type": "integer"
        },
        {
         "name": "sales_technical",
         "rawType": "int64",
         "type": "integer"
        },
        {
         "name": "salary_low",
         "rawType": "int64",
         "type": "integer"
        },
        {
         "name": "salary_medium",
         "rawType": "int64",
         "type": "integer"
        }
       ],
       "conversionMethod": "pd.DataFrame",
       "ref": "4307c817-ba17-43c7-9f48-eb822f8e6884",
       "rows": [
        [
         "0",
         "0",
         "0",
         "0",
         "0",
         "0",
         "0",
         "1",
         "0",
         "0",
         "1",
         "0"
        ],
        [
         "1",
         "0",
         "0",
         "0",
         "0",
         "0",
         "0",
         "1",
         "0",
         "0",
         "0",
         "1"
        ],
        [
         "2",
         "0",
         "0",
         "0",
         "0",
         "0",
         "0",
         "1",
         "0",
         "0",
         "0",
         "1"
        ],
        [
         "3",
         "0",
         "0",
         "0",
         "0",
         "0",
         "0",
         "1",
         "0",
         "0",
         "1",
         "0"
        ],
        [
         "4",
         "0",
         "0",
         "0",
         "0",
         "0",
         "0",
         "1",
         "0",
         "0",
         "1",
         "0"
        ]
       ],
       "shape": {
        "columns": 11,
        "rows": 5
       }
      },
      "text/html": [
       "<div>\n",
       "<style scoped>\n",
       "    .dataframe tbody tr th:only-of-type {\n",
       "        vertical-align: middle;\n",
       "    }\n",
       "\n",
       "    .dataframe tbody tr th {\n",
       "        vertical-align: top;\n",
       "    }\n",
       "\n",
       "    .dataframe thead th {\n",
       "        text-align: right;\n",
       "    }\n",
       "</style>\n",
       "<table border=\"1\" class=\"dataframe\">\n",
       "  <thead>\n",
       "    <tr style=\"text-align: right;\">\n",
       "      <th></th>\n",
       "      <th>sales_RandD</th>\n",
       "      <th>sales_accounting</th>\n",
       "      <th>sales_hr</th>\n",
       "      <th>sales_management</th>\n",
       "      <th>sales_marketing</th>\n",
       "      <th>sales_product_mng</th>\n",
       "      <th>sales_sales</th>\n",
       "      <th>sales_support</th>\n",
       "      <th>sales_technical</th>\n",
       "      <th>salary_low</th>\n",
       "      <th>salary_medium</th>\n",
       "    </tr>\n",
       "  </thead>\n",
       "  <tbody>\n",
       "    <tr>\n",
       "      <th>0</th>\n",
       "      <td>0</td>\n",
       "      <td>0</td>\n",
       "      <td>0</td>\n",
       "      <td>0</td>\n",
       "      <td>0</td>\n",
       "      <td>0</td>\n",
       "      <td>1</td>\n",
       "      <td>0</td>\n",
       "      <td>0</td>\n",
       "      <td>1</td>\n",
       "      <td>0</td>\n",
       "    </tr>\n",
       "    <tr>\n",
       "      <th>1</th>\n",
       "      <td>0</td>\n",
       "      <td>0</td>\n",
       "      <td>0</td>\n",
       "      <td>0</td>\n",
       "      <td>0</td>\n",
       "      <td>0</td>\n",
       "      <td>1</td>\n",
       "      <td>0</td>\n",
       "      <td>0</td>\n",
       "      <td>0</td>\n",
       "      <td>1</td>\n",
       "    </tr>\n",
       "    <tr>\n",
       "      <th>2</th>\n",
       "      <td>0</td>\n",
       "      <td>0</td>\n",
       "      <td>0</td>\n",
       "      <td>0</td>\n",
       "      <td>0</td>\n",
       "      <td>0</td>\n",
       "      <td>1</td>\n",
       "      <td>0</td>\n",
       "      <td>0</td>\n",
       "      <td>0</td>\n",
       "      <td>1</td>\n",
       "    </tr>\n",
       "    <tr>\n",
       "      <th>3</th>\n",
       "      <td>0</td>\n",
       "      <td>0</td>\n",
       "      <td>0</td>\n",
       "      <td>0</td>\n",
       "      <td>0</td>\n",
       "      <td>0</td>\n",
       "      <td>1</td>\n",
       "      <td>0</td>\n",
       "      <td>0</td>\n",
       "      <td>1</td>\n",
       "      <td>0</td>\n",
       "    </tr>\n",
       "    <tr>\n",
       "      <th>4</th>\n",
       "      <td>0</td>\n",
       "      <td>0</td>\n",
       "      <td>0</td>\n",
       "      <td>0</td>\n",
       "      <td>0</td>\n",
       "      <td>0</td>\n",
       "      <td>1</td>\n",
       "      <td>0</td>\n",
       "      <td>0</td>\n",
       "      <td>1</td>\n",
       "      <td>0</td>\n",
       "    </tr>\n",
       "  </tbody>\n",
       "</table>\n",
       "</div>"
      ],
      "text/plain": [
       "   sales_RandD  sales_accounting  sales_hr  sales_management  sales_marketing  \\\n",
       "0            0                 0         0                 0                0   \n",
       "1            0                 0         0                 0                0   \n",
       "2            0                 0         0                 0                0   \n",
       "3            0                 0         0                 0                0   \n",
       "4            0                 0         0                 0                0   \n",
       "\n",
       "   sales_product_mng  sales_sales  sales_support  sales_technical  salary_low  \\\n",
       "0                  0            1              0                0           1   \n",
       "1                  0            1              0                0           0   \n",
       "2                  0            1              0                0           0   \n",
       "3                  0            1              0                0           1   \n",
       "4                  0            1              0                0           1   \n",
       "\n",
       "   salary_medium  \n",
       "0              0  \n",
       "1              1  \n",
       "2              1  \n",
       "3              0  \n",
       "4              0  "
      ]
     },
     "execution_count": 17,
     "metadata": {},
     "output_type": "execute_result"
    }
   ],
   "source": [
    "# Separating categorical and numerical features\n",
    "categorical_col = df.select_dtypes(include='object').columns\n",
    "\n",
    "# Apply get dummies for categorical features\n",
    "df_dummies = pd.get_dummies(df[categorical_col], drop_first=True, dtype=int)\n",
    "\n",
    "df_dummies.head()"
   ]
  },
  {
   "cell_type": "code",
   "execution_count": 18,
   "metadata": {},
   "outputs": [
    {
     "data": {
      "application/vnd.microsoft.datawrangler.viewer.v0+json": {
       "columns": [
        {
         "name": "index",
         "rawType": "int64",
         "type": "integer"
        },
        {
         "name": "sales_RandD",
         "rawType": "int64",
         "type": "integer"
        },
        {
         "name": "sales_accounting",
         "rawType": "int64",
         "type": "integer"
        },
        {
         "name": "sales_hr",
         "rawType": "int64",
         "type": "integer"
        },
        {
         "name": "sales_management",
         "rawType": "int64",
         "type": "integer"
        },
        {
         "name": "sales_marketing",
         "rawType": "int64",
         "type": "integer"
        },
        {
         "name": "sales_product_mng",
         "rawType": "int64",
         "type": "integer"
        },
        {
         "name": "sales_sales",
         "rawType": "int64",
         "type": "integer"
        },
        {
         "name": "sales_support",
         "rawType": "int64",
         "type": "integer"
        },
        {
         "name": "sales_technical",
         "rawType": "int64",
         "type": "integer"
        },
        {
         "name": "salary_low",
         "rawType": "int64",
         "type": "integer"
        },
        {
         "name": "salary_medium",
         "rawType": "int64",
         "type": "integer"
        },
        {
         "name": "satisfaction_level",
         "rawType": "float64",
         "type": "float"
        },
        {
         "name": "last_evaluation",
         "rawType": "float64",
         "type": "float"
        },
        {
         "name": "number_project",
         "rawType": "int64",
         "type": "integer"
        },
        {
         "name": "average_montly_hours",
         "rawType": "int64",
         "type": "integer"
        },
        {
         "name": "time_spend_company",
         "rawType": "int64",
         "type": "integer"
        },
        {
         "name": "Work_accident",
         "rawType": "int64",
         "type": "integer"
        },
        {
         "name": "left",
         "rawType": "int64",
         "type": "integer"
        },
        {
         "name": "promotion_last_5years",
         "rawType": "int64",
         "type": "integer"
        }
       ],
       "conversionMethod": "pd.DataFrame",
       "ref": "5f5c63a1-c950-4794-a7e8-e30b08566480",
       "rows": [
        [
         "0",
         "0",
         "0",
         "0",
         "0",
         "0",
         "0",
         "1",
         "0",
         "0",
         "1",
         "0",
         "0.38",
         "0.53",
         "2",
         "157",
         "3",
         "0",
         "1",
         "0"
        ],
        [
         "1",
         "0",
         "0",
         "0",
         "0",
         "0",
         "0",
         "1",
         "0",
         "0",
         "0",
         "1",
         "0.8",
         "0.86",
         "5",
         "262",
         "6",
         "0",
         "1",
         "0"
        ],
        [
         "2",
         "0",
         "0",
         "0",
         "0",
         "0",
         "0",
         "1",
         "0",
         "0",
         "0",
         "1",
         "0.11",
         "0.88",
         "7",
         "272",
         "4",
         "0",
         "1",
         "0"
        ],
        [
         "3",
         "0",
         "0",
         "0",
         "0",
         "0",
         "0",
         "1",
         "0",
         "0",
         "1",
         "0",
         "0.72",
         "0.87",
         "5",
         "223",
         "5",
         "0",
         "1",
         "0"
        ],
        [
         "4",
         "0",
         "0",
         "0",
         "0",
         "0",
         "0",
         "1",
         "0",
         "0",
         "1",
         "0",
         "0.37",
         "0.52",
         "2",
         "159",
         "3",
         "0",
         "1",
         "0"
        ]
       ],
       "shape": {
        "columns": 19,
        "rows": 5
       }
      },
      "text/html": [
       "<div>\n",
       "<style scoped>\n",
       "    .dataframe tbody tr th:only-of-type {\n",
       "        vertical-align: middle;\n",
       "    }\n",
       "\n",
       "    .dataframe tbody tr th {\n",
       "        vertical-align: top;\n",
       "    }\n",
       "\n",
       "    .dataframe thead th {\n",
       "        text-align: right;\n",
       "    }\n",
       "</style>\n",
       "<table border=\"1\" class=\"dataframe\">\n",
       "  <thead>\n",
       "    <tr style=\"text-align: right;\">\n",
       "      <th></th>\n",
       "      <th>sales_RandD</th>\n",
       "      <th>sales_accounting</th>\n",
       "      <th>sales_hr</th>\n",
       "      <th>sales_management</th>\n",
       "      <th>sales_marketing</th>\n",
       "      <th>sales_product_mng</th>\n",
       "      <th>sales_sales</th>\n",
       "      <th>sales_support</th>\n",
       "      <th>sales_technical</th>\n",
       "      <th>salary_low</th>\n",
       "      <th>salary_medium</th>\n",
       "      <th>satisfaction_level</th>\n",
       "      <th>last_evaluation</th>\n",
       "      <th>number_project</th>\n",
       "      <th>average_montly_hours</th>\n",
       "      <th>time_spend_company</th>\n",
       "      <th>Work_accident</th>\n",
       "      <th>left</th>\n",
       "      <th>promotion_last_5years</th>\n",
       "    </tr>\n",
       "  </thead>\n",
       "  <tbody>\n",
       "    <tr>\n",
       "      <th>0</th>\n",
       "      <td>0</td>\n",
       "      <td>0</td>\n",
       "      <td>0</td>\n",
       "      <td>0</td>\n",
       "      <td>0</td>\n",
       "      <td>0</td>\n",
       "      <td>1</td>\n",
       "      <td>0</td>\n",
       "      <td>0</td>\n",
       "      <td>1</td>\n",
       "      <td>0</td>\n",
       "      <td>0.38</td>\n",
       "      <td>0.53</td>\n",
       "      <td>2</td>\n",
       "      <td>157</td>\n",
       "      <td>3</td>\n",
       "      <td>0</td>\n",
       "      <td>1</td>\n",
       "      <td>0</td>\n",
       "    </tr>\n",
       "    <tr>\n",
       "      <th>1</th>\n",
       "      <td>0</td>\n",
       "      <td>0</td>\n",
       "      <td>0</td>\n",
       "      <td>0</td>\n",
       "      <td>0</td>\n",
       "      <td>0</td>\n",
       "      <td>1</td>\n",
       "      <td>0</td>\n",
       "      <td>0</td>\n",
       "      <td>0</td>\n",
       "      <td>1</td>\n",
       "      <td>0.80</td>\n",
       "      <td>0.86</td>\n",
       "      <td>5</td>\n",
       "      <td>262</td>\n",
       "      <td>6</td>\n",
       "      <td>0</td>\n",
       "      <td>1</td>\n",
       "      <td>0</td>\n",
       "    </tr>\n",
       "    <tr>\n",
       "      <th>2</th>\n",
       "      <td>0</td>\n",
       "      <td>0</td>\n",
       "      <td>0</td>\n",
       "      <td>0</td>\n",
       "      <td>0</td>\n",
       "      <td>0</td>\n",
       "      <td>1</td>\n",
       "      <td>0</td>\n",
       "      <td>0</td>\n",
       "      <td>0</td>\n",
       "      <td>1</td>\n",
       "      <td>0.11</td>\n",
       "      <td>0.88</td>\n",
       "      <td>7</td>\n",
       "      <td>272</td>\n",
       "      <td>4</td>\n",
       "      <td>0</td>\n",
       "      <td>1</td>\n",
       "      <td>0</td>\n",
       "    </tr>\n",
       "    <tr>\n",
       "      <th>3</th>\n",
       "      <td>0</td>\n",
       "      <td>0</td>\n",
       "      <td>0</td>\n",
       "      <td>0</td>\n",
       "      <td>0</td>\n",
       "      <td>0</td>\n",
       "      <td>1</td>\n",
       "      <td>0</td>\n",
       "      <td>0</td>\n",
       "      <td>1</td>\n",
       "      <td>0</td>\n",
       "      <td>0.72</td>\n",
       "      <td>0.87</td>\n",
       "      <td>5</td>\n",
       "      <td>223</td>\n",
       "      <td>5</td>\n",
       "      <td>0</td>\n",
       "      <td>1</td>\n",
       "      <td>0</td>\n",
       "    </tr>\n",
       "    <tr>\n",
       "      <th>4</th>\n",
       "      <td>0</td>\n",
       "      <td>0</td>\n",
       "      <td>0</td>\n",
       "      <td>0</td>\n",
       "      <td>0</td>\n",
       "      <td>0</td>\n",
       "      <td>1</td>\n",
       "      <td>0</td>\n",
       "      <td>0</td>\n",
       "      <td>1</td>\n",
       "      <td>0</td>\n",
       "      <td>0.37</td>\n",
       "      <td>0.52</td>\n",
       "      <td>2</td>\n",
       "      <td>159</td>\n",
       "      <td>3</td>\n",
       "      <td>0</td>\n",
       "      <td>1</td>\n",
       "      <td>0</td>\n",
       "    </tr>\n",
       "  </tbody>\n",
       "</table>\n",
       "</div>"
      ],
      "text/plain": [
       "   sales_RandD  sales_accounting  sales_hr  sales_management  sales_marketing  \\\n",
       "0            0                 0         0                 0                0   \n",
       "1            0                 0         0                 0                0   \n",
       "2            0                 0         0                 0                0   \n",
       "3            0                 0         0                 0                0   \n",
       "4            0                 0         0                 0                0   \n",
       "\n",
       "   sales_product_mng  sales_sales  sales_support  sales_technical  salary_low  \\\n",
       "0                  0            1              0                0           1   \n",
       "1                  0            1              0                0           0   \n",
       "2                  0            1              0                0           0   \n",
       "3                  0            1              0                0           1   \n",
       "4                  0            1              0                0           1   \n",
       "\n",
       "   salary_medium  satisfaction_level  last_evaluation  number_project  \\\n",
       "0              0                0.38             0.53               2   \n",
       "1              1                0.80             0.86               5   \n",
       "2              1                0.11             0.88               7   \n",
       "3              0                0.72             0.87               5   \n",
       "4              0                0.37             0.52               2   \n",
       "\n",
       "   average_montly_hours  time_spend_company  Work_accident  left  \\\n",
       "0                   157                   3              0     1   \n",
       "1                   262                   6              0     1   \n",
       "2                   272                   4              0     1   \n",
       "3                   223                   5              0     1   \n",
       "4                   159                   3              0     1   \n",
       "\n",
       "   promotion_last_5years  \n",
       "0                      0  \n",
       "1                      0  \n",
       "2                      0  \n",
       "3                      0  \n",
       "4                      0  "
      ]
     },
     "execution_count": 18,
     "metadata": {},
     "output_type": "execute_result"
    }
   ],
   "source": [
    "# Combining numerical and categorical features\n",
    "df_combined = pd.concat([df_dummies, numerical_col], axis=1)\n",
    "\n",
    "df_combined.head()"
   ]
  },
  {
   "cell_type": "code",
   "execution_count": null,
   "metadata": {},
   "outputs": [
    {
     "data": {
      "image/png": "[encoded data removed]",
      "text/plain": [
       "<Figure size 640x480 with 1 Axes>"
      ]
     },
     "metadata": {},
     "output_type": "display_data"
    }
   ],
   "source": [
    "sns.countplot(x='left', data=df_combined)\n",
    "plt.show()"
   ]
  },
  {
   "cell_type": "code",
   "execution_count": null,
   "metadata": {},
   "outputs": [],
   "source": []
  }
 ],
 "metadata": {
  "kernelspec": {
   "display_name": "base",
   "language": "python",
   "name": "python3"
  },
  "language_info": {
   "codemirror_mode": {
    "name": "ipython",
    "version": 3
   },
   "file_extension": ".py",
   "mimetype": "text/x-python",
   "name": "python",
   "nbconvert_exporter": "python",
   "pygments_lexer": "ipython3",
   "version": "3.12.7"
  }
 },
 "nbformat": 4,
 "nbformat_minor": 2
}
